{
 "cells": [
  {
   "cell_type": "code",
   "execution_count": 7,
   "id": "731078e0-3b83-46e2-af54-8b9d10940423",
   "metadata": {},
   "outputs": [],
   "source": [
    "import pandas as pd\n",
    "\n",
    "import seaborn as sns\n",
    "import matplotlib.pyplot as plt\n",
    "from matplotlib.ticker import MaxNLocator\n",
    "import matplotlib.ticker as tkr\n",
    "import matplotlib as mpl\n",
    "\n",
    "import warnings\n",
    "warnings.filterwarnings(action='ignore')\n",
    "\n",
    "import matplotlib\n",
    "from matplotlib import font_manager, rc\n",
    "import platform\n",
    "\n",
    "if platform.system() == 'Windows':\n",
    "# 윈도우인 경우\n",
    "    font_name = font_manager.FontProperties(fname=\"c:/Windows/Fonts/malgun.ttf\").get_name()\n",
    "    rc('font', family=font_name)\n",
    "else:    \n",
    "# Mac 인 경우\n",
    "    rc('font', family='AppleGothic')"
   ]
  },
  {
   "cell_type": "code",
   "execution_count": 8,
   "id": "d022dc3e-e42c-4c76-9438-6529f2682ccb",
   "metadata": {},
   "outputs": [],
   "source": [
    "insta = pd.read_excel('/Users/hankiho/Downloads/라비림_청소기.xlsx', sheet_name = 'insta')\n",
    "df = pd.read_excel('/Users/hankiho/Downloads/라비림_청소기.xlsx', sheet_name = 'sales')"
   ]
  },
  {
   "cell_type": "code",
   "execution_count": 9,
   "id": "10a9eaf8-5ed1-44fe-87de-1b67cca33a2a",
   "metadata": {},
   "outputs": [],
   "source": [
    "def group_buying_graph(amount_df, insta, sales_prd_name, insta_prd_name):\n",
    "\n",
    "    insta = insta[insta['일자'].notnull()]\n",
    "    insta['일자'] = insta['일자'].apply(lambda x:x.replace('/','-'))\n",
    "\n",
    "    d = df[df['orderGoodSimple'] == sales_prd_name]\n",
    "    q = d.groupby('orderPayDate')['orderPrice'].sum().reset_index(name = 'amt')\n",
    "\n",
    "    insta['일자'] = insta['일자'].apply(lambda x:x.strip())\n",
    "    insta = insta[insta['제품명'] == insta_prd_name]\n",
    "    df_5stage = insta.groupby(['일자','5 stage']).size().reset_index(name = 'cnt').fillna(0)\n",
    "\n",
    "    max_dates = max(min(insta['일자']), max(insta['일자']), min(q['orderPayDate']), max(d['orderPayDate']))\n",
    "    min_dates = min(min(insta['일자']), max(insta['일자']), min(q['orderPayDate']), max(d['orderPayDate']))\n",
    "    dates_df = pd.DataFrame(pd.date_range(min_dates, max_dates), columns = ['orderPayDate'])\n",
    "    dates_df['orderPayDate'] = dates_df['orderPayDate'].apply(lambda x:x.strftime('%Y-%m-%d'))\n",
    "    q = pd.merge(dates_df, q, how = 'outer').fillna(0)\n",
    "\n",
    "\n",
    "    merge_df = pd.merge(q, df_5stage, left_on = 'orderPayDate', right_on = '일자', how = 'outer').fillna(0).drop('일자',1)[['orderPayDate','5 stage','cnt','amt']]\n",
    "\n",
    "    display(merge_df[merge_df['cnt'] == 0])\n",
    "    merge_df = merge_df[merge_df['cnt'] != 0]\n",
    "    \n",
    "    print('홍보기간: {0}일'.format(merge_df.shape[0]))\n",
    "    print('피드갯수: {0}개'.format(merge_df['cnt'].sum()))\n",
    "    print('판매량: {:,}원'.format(merge_df['amt'].sum()))\n",
    "    top_3_location = ','.join(df['recvAddr1'].apply(lambda x:x.split(' ')[0]).value_counts()[:3].index)\n",
    "    print ('상위 구매지역(Top_3): {0}'.format(top_3_location))\n",
    "    \n",
    "    plt.rcParams[\"figure.figsize\"] = (15, 5)\n",
    "\n",
    "    color_dct = {'show':'crimson',\n",
    "                'push':'darksalmon',\n",
    "                'open':'chartreuse',\n",
    "                'ing':'dodgerblue',\n",
    "                'close':'navy'}\n",
    "\n",
    "    ax1 = pd.pivot_table(data = merge_df,\n",
    "                index = 'orderPayDate', columns = '5 stage', \n",
    "                values = 'cnt').fillna(0).plot.bar(stacked=True, color = color_dct)\n",
    "    ax1.set_ylabel('인스타그램 피드수')\n",
    "    ax1.legend(bbox_to_anchor= (1.5, 0.5))\n",
    "\n",
    "    ax2 = ax1.twinx()\n",
    "    ax2 = sns.pointplot(data = merge_df, x = 'orderPayDate', y = 'amt', color = 'yellow')\n",
    "    ax2.yaxis.set_major_formatter(mpl.ticker.StrMethodFormatter('{x:,.0f}'))\n",
    "    ax2.set_ylabel('판매량')\n",
    "    plt.xticks(rotation = '90')\n",
    "    plt.title('공구 플로우 현황 ({0})\\n'.format(insta['제품명'].unique()[0]), fontsize = 15)\n",
    "    plt.tight_layout()\n",
    "    # plt.savefig('{0}.png'.format(insta_prd))\n",
    "    plt.show()"
   ]
  },
  {
   "cell_type": "code",
   "execution_count": 10,
   "id": "e41f9731-0f85-4655-96b6-1b328eb48b52",
   "metadata": {},
   "outputs": [
    {
     "data": {
      "text/html": [
       "<div>\n",
       "<style scoped>\n",
       "    .dataframe tbody tr th:only-of-type {\n",
       "        vertical-align: middle;\n",
       "    }\n",
       "\n",
       "    .dataframe tbody tr th {\n",
       "        vertical-align: top;\n",
       "    }\n",
       "\n",
       "    .dataframe thead th {\n",
       "        text-align: right;\n",
       "    }\n",
       "</style>\n",
       "<table border=\"1\" class=\"dataframe\">\n",
       "  <thead>\n",
       "    <tr style=\"text-align: right;\">\n",
       "      <th></th>\n",
       "      <th>orderPayDate</th>\n",
       "      <th>5 stage</th>\n",
       "      <th>cnt</th>\n",
       "      <th>amt</th>\n",
       "    </tr>\n",
       "  </thead>\n",
       "  <tbody>\n",
       "    <tr>\n",
       "      <th>1</th>\n",
       "      <td>2021-07-07</td>\n",
       "      <td>0</td>\n",
       "      <td>0.0</td>\n",
       "      <td>0.0</td>\n",
       "    </tr>\n",
       "    <tr>\n",
       "      <th>3</th>\n",
       "      <td>2021-07-09</td>\n",
       "      <td>0</td>\n",
       "      <td>0.0</td>\n",
       "      <td>0.0</td>\n",
       "    </tr>\n",
       "    <tr>\n",
       "      <th>5</th>\n",
       "      <td>2021-07-11</td>\n",
       "      <td>0</td>\n",
       "      <td>0.0</td>\n",
       "      <td>0.0</td>\n",
       "    </tr>\n",
       "    <tr>\n",
       "      <th>8</th>\n",
       "      <td>2021-07-14</td>\n",
       "      <td>0</td>\n",
       "      <td>0.0</td>\n",
       "      <td>0.0</td>\n",
       "    </tr>\n",
       "    <tr>\n",
       "      <th>17</th>\n",
       "      <td>2021-07-22</td>\n",
       "      <td>0</td>\n",
       "      <td>0.0</td>\n",
       "      <td>0.0</td>\n",
       "    </tr>\n",
       "  </tbody>\n",
       "</table>\n",
       "</div>"
      ],
      "text/plain": [
       "   orderPayDate 5 stage  cnt  amt\n",
       "1    2021-07-07       0  0.0  0.0\n",
       "3    2021-07-09       0  0.0  0.0\n",
       "5    2021-07-11       0  0.0  0.0\n",
       "8    2021-07-14       0  0.0  0.0\n",
       "17   2021-07-22       0  0.0  0.0"
      ]
     },
     "metadata": {},
     "output_type": "display_data"
    },
    {
     "name": "stdout",
     "output_type": "stream",
     "text": [
      "홍보기간: 15일\n",
      "피드갯수: 42.0개\n",
      "판매량: 104,976,000.0원\n",
      "상위 구매지역(Top_3): 경기,서울,대구\n"
     ]
    },
    {
     "data": {
      "image/png": "[encoded data removed]",
      "text/plain": [
       "<Figure size 1080x360 with 2 Axes>"
      ]
     },
     "metadata": {
      "needs_background": "light"
     },
     "output_type": "display_data"
    }
   ],
   "source": [
    "group_buying_graph(df, insta, '비쎌 크로스웨이브 맥스 3.0 2765S', '비쎌크로스웨이브')"
   ]
  },
  {
   "cell_type": "code",
   "execution_count": null,
   "id": "dcbfdb44-a679-4841-b6e6-0185ed09a3bb",
   "metadata": {},
   "outputs": [],
   "source": []
  }
 ],
 "metadata": {
  "kernelspec": {
   "display_name": "Python 3",
   "language": "python",
   "name": "python3"
  },
  "language_info": {
   "codemirror_mode": {
    "name": "ipython",
    "version": 3
   },
   "file_extension": ".py",
   "mimetype": "text/x-python",
   "name": "python",
   "nbconvert_exporter": "python",
   "pygments_lexer": "ipython3",
   "version": "3.8.8"
  }
 },
 "nbformat": 4,
 "nbformat_minor": 5
}
